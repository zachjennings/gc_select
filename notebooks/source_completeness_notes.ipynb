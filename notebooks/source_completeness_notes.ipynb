{
 "cells": [
  {
   "cell_type": "code",
   "execution_count": 2,
   "metadata": {
    "collapsed": true
   },
   "outputs": [],
   "source": [
    "gc = gcSampler.gcSampler(100.,\\\n",
    "                fractions=np.array([0.25,0.25,0.5]),center=[2000.,2000.],spatial=np.array([5.0e5,0.7,0.0]),\\\n",
    "                  max_rad=2000.,radial_profile='exponential',mock=True,n_source=1000,ellipticity=True,\\\n",
    "                         n_pop=2,fixed_cov=False,lum_function='mag_only',completeness='mag_only',fg_faint=26.,\n",
    "                         fg_bright=19.,lum_mean=np.array([22.]),lum_sig=np.array([1.4]))"
   ]
  },
  {
   "cell_type": "code",
   "execution_count": 3,
   "metadata": {
    "collapsed": true
   },
   "outputs": [],
   "source": [
    "completeness_obj = pickle.load(open('fake_gal_completeness.p','rb'))"
   ]
  },
  {
   "cell_type": "code",
   "execution_count": 1,
   "metadata": {
    "collapsed": false
   },
   "outputs": [
    {
     "data": {
      "text/plain": [
       "<module 'SourceCompleteness' from 'SourceCompleteness.pyc'>"
      ]
     },
     "execution_count": 1,
     "metadata": {},
     "output_type": "execute_result"
    }
   ],
   "source": [
    "%matplotlib inline\n",
    "import matplotlib.pyplot as plt\n",
    "import scipy.stats as stats\n",
    "#import fakeGalaxy\n",
    "#reload(fakeGalaxy)\n",
    "import numpy as np\n",
    "#import seWrapper\n",
    "import gcSampler\n",
    "import densityGC\n",
    "import densityFG\n",
    "import subprocess as sp\n",
    "import SourceCompleteness\n",
    "import corner\n",
    "import pickle\n",
    "import seaborn as sea\n",
    "#reload(seWrapper)\n",
    "reload(gcSampler)\n",
    "reload(densityGC)\n",
    "reload(densityFG)\n",
    "reload(SourceCompleteness)"
   ]
  },
  {
   "cell_type": "code",
   "execution_count": 4,
   "metadata": {
    "collapsed": false
   },
   "outputs": [],
   "source": [
    "norm = SourceCompleteness.CompleteNormalization(gc.gc,gc.fg,\\\n",
    "                                                [completeness_obj,completeness_obj,completeness_obj],filters=3)"
   ]
  },
  {
   "cell_type": "code",
   "execution_count": 5,
   "metadata": {
    "collapsed": false
   },
   "outputs": [
    {
     "data": {
      "text/plain": [
       "0.52775453440897979"
      ]
     },
     "execution_count": 5,
     "metadata": {},
     "output_type": "execute_result"
    }
   ],
   "source": [
    "norm.calc_fg_norm()"
   ]
  },
  {
   "cell_type": "code",
   "execution_count": 53,
   "metadata": {
    "collapsed": false
   },
   "outputs": [
    {
     "name": "stdout",
     "output_type": "stream",
     "text": [
      "0.0773728452775 0.425965305065\n"
     ]
    },
    {
     "data": {
      "text/plain": [
       "0.032958147642378449"
      ]
     },
     "execution_count": 53,
     "metadata": {},
     "output_type": "execute_result"
    }
   ],
   "source": [
    "norm.calc_gc_norm(means=np.array([[1.03,0.30],[0.75,0.19]]),covs=np.array([[[0.009, 0.0042],[0.0042, 0.0027]],\\\n",
    "[[0.0082, 0.0031],[0.0031,.0018]]]),lum_means=np.array([23.]),lum_sigs=np.array([1.4]),fractions=np.array([0.25,0.25]))"
   ]
  },
  {
   "cell_type": "code",
   "execution_count": 61,
   "metadata": {
    "collapsed": false
   },
   "outputs": [
    {
     "name": "stdout",
     "output_type": "stream",
     "text": [
      "0.092828856029\n",
      "False\n"
     ]
    }
   ],
   "source": [
    "print np.sum(norm.lum_like * 0.005)\n",
    "print norm.gc_density.fixed_lum"
   ]
  },
  {
   "cell_type": "code",
   "execution_count": 293,
   "metadata": {
    "collapsed": false
   },
   "outputs": [
    {
     "name": "stdout",
     "output_type": "stream",
     "text": [
      "150\n"
     ]
    },
    {
     "data": {
      "text/plain": [
       "(2, 8000)"
      ]
     },
     "execution_count": 293,
     "metadata": {},
     "output_type": "execute_result"
    }
   ],
   "source": [
    "print norm.c1.size\n",
    "xx,yy = np.meshgrid(norm.c1,norm.c2)\n",
    "inds_1,inds_2 = np.meshgrid(np.linspace(0,norm.c1.size-1,norm.c1.size),np.linspace(0,norm.c2.size-1,norm.c2.size))\n",
    "norm.large_complete[0].shape"
   ]
  },
  {
   "cell_type": "code",
   "execution_count": 7,
   "metadata": {
    "collapsed": false
   },
   "outputs": [],
   "source": [
    "complete_array = norm.make_complete_grid(completeness_obj)"
   ]
  },
  {
   "cell_type": "code",
   "execution_count": 8,
   "metadata": {
    "collapsed": false
   },
   "outputs": [
    {
     "name": "stdout",
     "output_type": "stream",
     "text": [
      "[[-1.5         0.24535601]\n",
      " [-1.375       0.27573918]\n",
      " [-1.25        0.30608005]\n",
      " [-1.125       0.33621222]\n",
      " [-1.          0.365962  ]\n",
      " [-0.875       0.39512956]\n",
      " [-0.75        0.42347596]\n",
      " [-0.625       0.45071804]\n",
      " [-0.5         0.47653272]\n",
      " [-0.375       0.50057502]\n",
      " [-0.25        0.52250891]\n",
      " [-0.125       0.54204836]\n",
      " [ 0.          0.55900029]\n",
      " [ 0.125       0.57329634]\n",
      " [ 0.25        0.58500365]\n",
      " [ 0.375       0.59431453]\n",
      " [ 0.5         0.60151374]\n",
      " [ 0.625       0.60693528]\n",
      " [ 0.75        0.61092072]\n",
      " [ 0.875       0.61378757]\n",
      " [ 1.          0.61580974]\n",
      " [ 1.125       0.61721089]\n",
      " [ 1.25        0.61816548]\n",
      " [ 1.375       0.61880509]\n",
      " [ 1.5         0.61922622]]\n"
     ]
    }
   ],
   "source": [
    "norm_val= norm.marginalize_color_complete(complete_array,complete_array,color=np.linspace(-1.5,1.5,25),\\\n",
    "                                         faint_mag=26.,bright_mag=22.)\n",
    "print norm_val"
   ]
  },
  {
   "cell_type": "code",
   "execution_count": 15,
   "metadata": {
    "collapsed": false
   },
   "outputs": [
    {
     "data": {
      "text/plain": [
       "<matplotlib.text.Text at 0x10aeeea90>"
      ]
     },
     "execution_count": 15,
     "metadata": {},
     "output_type": "execute_result"
    },
    {
     "data": {
      "image/png": "[encoded data removed]",
      "text/plain": [
       "<matplotlib.figure.Figure at 0x10b129ad0>"
      ]
     },
     "metadata": {},
     "output_type": "display_data"
    }
   ],
   "source": [
    "fig,ax = plt.subplots(figsize=(10,6))\n",
    "ax.plot(norm_val[:,0],norm_val[:,1])\n",
    "ax.set_xlabel('Color')\n",
    "ax.set_ylabel('P ( obs | color )')"
   ]
  },
  {
   "cell_type": "code",
   "execution_count": 317,
   "metadata": {
    "collapsed": false
   },
   "outputs": [
    {
     "name": "stdout",
     "output_type": "stream",
     "text": [
      "(10, 2)\n"
     ]
    }
   ],
   "source": [
    "foo = np.arange(10)\n",
    "foo_2 = np.arange(10,20)\n",
    "\n",
    "print np.stack([foo,foo_2],axis=1).shape"
   ]
  },
  {
   "cell_type": "code",
   "execution_count": null,
   "metadata": {
    "collapsed": true
   },
   "outputs": [],
   "source": []
  }
 ],
 "metadata": {
  "kernelspec": {
   "display_name": "Python 2",
   "language": "python",
   "name": "python2"
  },
  "language_info": {
   "codemirror_mode": {
    "name": "ipython",
    "version": 2
   },
   "file_extension": ".py",
   "mimetype": "text/x-python",
   "name": "python",
   "nbconvert_exporter": "python",
   "pygments_lexer": "ipython2",
   "version": "2.7.10"
  }
 },
 "nbformat": 4,
 "nbformat_minor": 0
}
