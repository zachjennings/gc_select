{
 "cells": [
  {
   "cell_type": "code",
   "execution_count": 142,
   "metadata": {
    "collapsed": false
   },
   "outputs": [],
   "source": [
    "%matplotlib inline\n",
    "import matplotlib.pyplot as plt\n",
    "import fakeGalaxy\n",
    "reload(fakeGalaxy)\n",
    "import numpy as np\n",
    "import seWrapper\n",
    "import gcSampler\n",
    "import densityGC\n",
    "import densityFG\n",
    "reload(seWrapper)\n",
    "reload(gcSampler)\n",
    "reload(densityGC)\n",
    "reload(densityFG)\n",
    "\n",
    "fg = fakeGalaxy.fakeGalaxy()"
   ]
  },
  {
   "cell_type": "code",
   "execution_count": 143,
   "metadata": {
    "collapsed": false
   },
   "outputs": [],
   "source": [
    "fg.makeSampler(30.,fractions=np.array([0.5,0.5]),n_source=1000,center=[1000.,1000.],spatial=np.array([1e6]),\\\n",
    "                  max_rad=1000.,radial_profile='exponential')\n",
    "model = fg.getModel(model='gaussian',amp=50.,center=(1000,1000),x_stddev=500.,y_stddev=500.)\n",
    "fg.makeGalaxyImage(model,dimensions=(2000,2000),gain=1.0,rdnoise=0.0)"
   ]
  },
  {
   "cell_type": "code",
   "execution_count": 144,
   "metadata": {
    "collapsed": false
   },
   "outputs": [],
   "source": [
    "cat = seWrapper.seCatalog()\n",
    "cat.createNewCatalog('g_fake_gal.cat')\n",
    "fake = seWrapper.fakeStarTests('fake_gal_model_sources.fits',cat,config_file='fake_gal.sex')"
   ]
  },
  {
   "cell_type": "code",
   "execution_count": 145,
   "metadata": {
    "collapsed": false
   },
   "outputs": [],
   "source": [
    "fake.genFakeCatalogs(n_stars=1000,min_mag=24,max_mag=26,n_iter=2,overwrite=True)"
   ]
  },
  {
   "cell_type": "code",
   "execution_count": null,
   "metadata": {
    "collapsed": false
   },
   "outputs": [],
   "source": [
    "mags = fg.catalog[1]\n",
    "spatial = fg.catalog[2]\n",
    "dat = np.hstack((mags.reshape(mags.size,1),spatial))"
   ]
  },
  {
   "cell_type": "code",
   "execution_count": 81,
   "metadata": {
    "collapsed": false
   },
   "outputs": [
    {
     "data": {
      "text/plain": [
       "' 26.55148594  -0.28005215   0.23195581'"
      ]
     },
     "execution_count": 81,
     "metadata": {},
     "output_type": "execute_result"
    }
   ],
   "source": [
    "np.array2string(dat[0]).replace('[','').replace(']','')"
   ]
  },
  {
   "cell_type": "code",
   "execution_count": null,
   "metadata": {
    "collapsed": false
   },
   "outputs": [],
   "source": [
    "from astropy.modeling.models import Gaussian2D\n",
    "foo = Gaussian2D(cov_matrix=np.array([[1.0,0.0],[0.0,1.0]]))"
   ]
  },
  {
   "cell_type": "code",
   "execution_count": null,
   "metadata": {
    "collapsed": false
   },
   "outputs": [],
   "source": []
  },
  {
   "cell_type": "code",
   "execution_count": 31,
   "metadata": {
    "collapsed": false
   },
   "outputs": [],
   "source": [
    "import densityFG\n",
    "reload(densityFG)\n",
    "fg_density = densityFG.densityFG(fg_type='kde',fg_kde_file='/Users/zach/astro/gc_select/cropped_color_dist.p')"
   ]
  },
  {
   "cell_type": "code",
   "execution_count": 32,
   "metadata": {
    "collapsed": false
   },
   "outputs": [],
   "source": [
    "colors,mags = fg_density.genMock(n=1000)"
   ]
  },
  {
   "cell_type": "code",
   "execution_count": 33,
   "metadata": {
    "collapsed": false
   },
   "outputs": [
    {
     "ename": "AttributeError",
     "evalue": "'densityFG' object has no attribute 'genMags'",
     "output_type": "error",
     "traceback": [
      "\u001b[0;31m---------------------------------------------------------------------------\u001b[0m",
      "\u001b[0;31mAttributeError\u001b[0m                            Traceback (most recent call last)",
      "\u001b[0;32m<ipython-input-33-08f48e704a2b>\u001b[0m in \u001b[0;36m<module>\u001b[0;34m()\u001b[0m\n\u001b[0;32m----> 1\u001b[0;31m \u001b[0mfg_density\u001b[0m\u001b[0;34m.\u001b[0m\u001b[0mgenMags\u001b[0m\u001b[0;34m(\u001b[0m\u001b[0;34m)\u001b[0m\u001b[0;34m\u001b[0m\u001b[0m\n\u001b[0m",
      "\u001b[0;31mAttributeError\u001b[0m: 'densityFG' object has no attribute 'genMags'"
     ]
    }
   ],
   "source": [
    "fg_density.genMags()"
   ]
  },
  {
   "cell_type": "code",
   "execution_count": null,
   "metadata": {
    "collapsed": false,
    "scrolled": false
   },
   "outputs": [],
   "source": []
  },
  {
   "cell_type": "code",
   "execution_count": null,
   "metadata": {
    "collapsed": false
   },
   "outputs": [],
   "source": [
    "log_img = np.log10(img)\n",
    "\n",
    "plt.figure()\n",
    "plt.imshow(log_img, origin='lower', interpolation='nearest',\n",
    "           vmin=-1, vmax=0.5)\n",
    "plt.xlabel('x')\n",
    "plt.ylabel('y')\n",
    "cbar = plt.colorbar()\n",
    "cbar.set_label('Log Brightness', rotation=270, labelpad=25)\n",
    "cbar.set_ticks([-1, 0, 1, 2], update_ticks=True)\n",
    "plt.show()"
   ]
  },
  {
   "cell_type": "code",
   "execution_count": null,
   "metadata": {
    "collapsed": true
   },
   "outputs": [],
   "source": [
    "sampler = gcSampler.gcSampler(30,max_rad = 10.0,\\\n",
    "                             radial_profile='exponential',fractions=np.array([0.1,0.15,.75]),fixed_cov=False,\\\n",
    "                             ellipticity=True,n_pop=2,n_source=2000,mock=True,mock_fg_only=True,\\\n",
    "                             spatial=np.array([40.0,0.7,0.81]))"
   ]
  },
  {
   "cell_type": "code",
   "execution_count": null,
   "metadata": {
    "collapsed": true
   },
   "outputs": [],
   "source": []
  }
 ],
 "metadata": {
  "kernelspec": {
   "display_name": "Python 2",
   "language": "python",
   "name": "python2"
  },
  "language_info": {
   "codemirror_mode": {
    "name": "ipython",
    "version": 2
   },
   "file_extension": ".py",
   "mimetype": "text/x-python",
   "name": "python",
   "nbconvert_exporter": "python",
   "pygments_lexer": "ipython2",
   "version": "2.7.10"
  }
 },
 "nbformat": 4,
 "nbformat_minor": 0
}
