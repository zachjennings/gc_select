{
 "cells": [
  {
   "cell_type": "code",
   "execution_count": 2,
   "metadata": {
    "collapsed": false
   },
   "outputs": [
    {
     "ename": "ImportError",
     "evalue": "No module named seWrapper",
     "output_type": "error",
     "traceback": [
      "\u001b[0;31m---------------------------------------------------------------------------\u001b[0m",
      "\u001b[0;31mImportError\u001b[0m                               Traceback (most recent call last)",
      "\u001b[0;32m<ipython-input-2-2de43885e782>\u001b[0m in \u001b[0;36m<module>\u001b[0;34m()\u001b[0m\n\u001b[1;32m      2\u001b[0m \u001b[0;32mimport\u001b[0m \u001b[0mmatplotlib\u001b[0m\u001b[0;34m.\u001b[0m\u001b[0mpyplot\u001b[0m \u001b[0;32mas\u001b[0m \u001b[0mplt\u001b[0m\u001b[0;34m\u001b[0m\u001b[0m\n\u001b[1;32m      3\u001b[0m \u001b[0;32mimport\u001b[0m \u001b[0mnumpy\u001b[0m \u001b[0;32mas\u001b[0m \u001b[0mnp\u001b[0m\u001b[0;34m\u001b[0m\u001b[0m\n\u001b[0;32m----> 4\u001b[0;31m \u001b[0;32mimport\u001b[0m \u001b[0mseWrapper\u001b[0m\u001b[0;34m\u001b[0m\u001b[0m\n\u001b[0m\u001b[1;32m      5\u001b[0m \u001b[0;32mimport\u001b[0m \u001b[0mastropy\u001b[0m\u001b[0;34m.\u001b[0m\u001b[0munits\u001b[0m \u001b[0;32mas\u001b[0m \u001b[0mu\u001b[0m\u001b[0;34m\u001b[0m\u001b[0m\n\u001b[1;32m      6\u001b[0m \u001b[0;32mfrom\u001b[0m \u001b[0msklearn\u001b[0m\u001b[0;34m.\u001b[0m\u001b[0mneighbors\u001b[0m \u001b[0;32mimport\u001b[0m \u001b[0mKernelDensity\u001b[0m\u001b[0;34m\u001b[0m\u001b[0m\n",
      "\u001b[0;31mImportError\u001b[0m: No module named seWrapper"
     ]
    }
   ],
   "source": [
    "%matplotlib inline\n",
    "import matplotlib.pyplot as plt\n",
    "import numpy as np\n",
    "import seWrapper\n",
    "import astropy.units as u\n",
    "from sklearn.neighbors import KernelDensity\n",
    "from sklearn.grid_search import GridSearchCV\n",
    "import colorKDE\n",
    "import pickle\n",
    "\n",
    "reload(seWrapper)\n",
    "reload(colorKDE)"
   ]
  },
  {
   "cell_type": "code",
   "execution_count": 70,
   "metadata": {
    "collapsed": false
   },
   "outputs": [
    {
     "name": "stdout",
     "output_type": "stream",
     "text": [
      "Optimal bandwidth: 0.070612244898\n"
     ]
    }
   ],
   "source": [
    "\n",
    "color_dist = colorKDE.colorKDE(data=data)\n",
    "color_dist.runCVSearch()"
   ]
  },
  {
   "cell_type": "code",
   "execution_count": 71,
   "metadata": {
    "collapsed": false
   },
   "outputs": [],
   "source": [
    "color_dist = colorKDE.colorKDE(data=data)\n",
    "color_dist.runKDE(bandwidth=0.07)\n",
    "color_dist.save('cropped_color_dist.p',full=False)"
   ]
  },
  {
   "cell_type": "code",
   "execution_count": 79,
   "metadata": {
    "collapsed": false
   },
   "outputs": [
    {
     "data": {
      "text/plain": [
       "<matplotlib.collections.PathCollection at 0x10f4d2e10>"
      ]
     },
     "execution_count": 79,
     "metadata": {},
     "output_type": "execute_result"
    },
    {
     "data": {
      "image/png": "[encoded data removed]",
      "text/plain": [
       "<matplotlib.figure.Figure at 0x10cadcd50>"
      ]
     },
     "metadata": {},
     "output_type": "display_data"
    }
   ],
   "source": [
    "new_color_dist = pickle.load(open('cropped_color_dist.p','rb'))\n",
    "new_samples  = new_color_dist.sample(n_samples=1000)\n",
    "plt.scatter(new_samples[:,0],new_samples[:,1],s=0.5)"
   ]
  },
  {
   "cell_type": "code",
   "execution_count": 67,
   "metadata": {
    "collapsed": false
   },
   "outputs": [
    {
     "name": "stdout",
     "output_type": "stream",
     "text": [
      "CPU times: user 89.2 ms, sys: 84 µs, total: 89.3 ms\n",
      "Wall time: 89.3 ms\n"
     ]
    },
    {
     "data": {
      "text/plain": [
       "array([ -6.40669900e-01,  -5.51269425e-02,  -4.57210207e-01,\n",
       "        -7.04557934e-01,  -9.79392424e-01,   4.76992186e-01,\n",
       "        -6.21645500e-01,  -2.85902708e-01,  -1.02192902e-01,\n",
       "        -1.25237215e-01,  -1.32466187e+00,  -2.44571457e+00,\n",
       "        -1.18121528e+00,   6.73811114e-02,   6.55340801e-01,\n",
       "        -6.23994081e-01,  -7.18490341e-01,  -2.61041371e-01,\n",
       "         5.86510101e-01,   8.29728815e-01,  -1.56236727e+00,\n",
       "        -5.57325688e-01,   2.62473849e-01,  -1.10972607e+00,\n",
       "        -1.42307897e+00,  -3.86945581e-01,  -1.02509589e+00,\n",
       "        -4.39645366e-01,   7.16595563e-01,  -4.62907775e-01,\n",
       "         3.50090984e-01,  -4.48920824e-01,  -1.27318406e+00,\n",
       "         3.23965252e-01,  -6.36040659e-01,  -2.03414546e-01,\n",
       "         6.16686970e-01,  -1.04730056e-01,  -3.36262236e-01,\n",
       "         8.52672102e-02,   2.99293445e-01,   8.12267475e-01,\n",
       "        -2.10200801e+00,  -3.45355528e-01,  -8.48001687e-01,\n",
       "        -9.47097829e-02,  -1.73114351e-01,   8.07281385e-01,\n",
       "        -1.69990507e-01,   7.76221035e-01,  -1.02289596e+00,\n",
       "        -9.88024999e-01,  -1.17586406e+00,   5.99061382e-02,\n",
       "        -1.23362315e-01,  -9.94518592e-01,  -1.89360574e-02,\n",
       "         2.53719776e-01,  -1.87851329e+00,  -1.65308767e-01,\n",
       "         1.28964112e-01,  -1.18748381e+00,  -1.86898912e+00,\n",
       "        -1.52451593e+00,  -1.18790177e+00,   2.26027757e-01,\n",
       "        -8.07374724e-02,   4.30521133e-01,   3.47871535e-01,\n",
       "        -2.31231320e-01,  -1.57710473e+00,  -1.44452090e-01,\n",
       "         2.35819205e-01,  -6.45094149e-01,  -6.38562768e-01,\n",
       "        -8.07020798e-01,   4.59957681e-01,   3.91300631e-01,\n",
       "        -3.68301071e-01,   1.39510256e-01,  -2.91785734e+00,\n",
       "        -1.12028764e-01,  -3.29067895e-02,  -1.13752220e-01,\n",
       "        -7.83262849e-01,   1.71456752e-01,   3.53813551e-01,\n",
       "         1.10901747e-01,   4.35847114e-02,   2.44538439e-02,\n",
       "         7.05371710e-01,   2.89611377e-01,   7.62543639e-01,\n",
       "        -2.93356386e-02,   2.82486225e-02,  -1.81517835e+00,\n",
       "        -4.36300709e-01,  -9.35976034e-01,   4.61624173e-02,\n",
       "         2.00566540e-01,  -2.19896622e-01,  -1.02334468e+00,\n",
       "         5.28033644e-02,   6.39873723e-01,  -6.65654150e-01,\n",
       "         4.59165232e-01,   2.85031444e-02,  -3.37325683e-01,\n",
       "         1.10263396e-02,   8.59039668e-02,  -8.07415833e-01,\n",
       "        -3.35304297e-02,  -1.41334415e+00,   2.80383185e-01,\n",
       "        -1.00671334e+00,  -1.58033769e+00,  -5.49895963e-01,\n",
       "         6.27777599e-01,  -9.70849655e-01,  -1.30153982e+00,\n",
       "        -3.02715688e-01,  -3.97007660e-02,   2.33786311e-01,\n",
       "        -2.46061473e+00,   6.10515386e-01,   5.95871180e-01,\n",
       "        -2.56953212e+00,  -1.02905519e+00,   2.35554654e-01,\n",
       "        -5.29115812e-01,  -1.05465600e+00,  -8.00663743e-01,\n",
       "        -7.08886870e-02,  -5.55635219e-01,  -3.25997356e+00,\n",
       "        -5.58699617e-02,  -1.38488241e-01,   2.08982758e-01,\n",
       "         5.79080386e-01,   7.02177866e-03,  -6.94753864e-01,\n",
       "         1.25165582e-01,  -3.95740410e-01,   5.27142847e-02,\n",
       "        -1.60379929e-02,  -1.21941813e+00,  -2.42000460e-01,\n",
       "         6.45270655e-01,   9.90288932e-03,   4.99617814e-01,\n",
       "        -2.66823587e-01,   1.72975227e-01,   1.80047489e-01,\n",
       "        -9.65243081e-01,  -1.75641301e-01,   2.78344176e-02,\n",
       "         7.06925268e-01,  -7.49882491e-01,   4.71337893e-01,\n",
       "        -9.37838359e-02,  -1.37883175e-01,   1.84959018e-01,\n",
       "         1.10170992e-01,  -6.45881355e-01,  -1.49497373e+00,\n",
       "        -1.15760565e-01,   7.92229759e-01,   7.21345467e-01,\n",
       "        -3.23998449e-01,  -7.18258061e-01,  -4.95126496e-01,\n",
       "         1.96353751e-01,  -2.85839824e-01,   2.11168782e-01,\n",
       "        -1.31595048e+00,  -9.59218784e-01,   1.74475238e-03,\n",
       "         6.47631395e-01,  -1.91866969e+00,  -2.35702921e+00,\n",
       "         4.43776569e-01,   9.71308249e-02,  -1.58072414e-01,\n",
       "        -1.29630499e+00,   4.90887060e-01,  -5.72328978e-01,\n",
       "         5.24315491e-01,  -1.09241008e+00,  -6.99937249e-01,\n",
       "         6.41341816e-01,  -1.96147247e-01,   1.44908284e-01,\n",
       "        -3.83759996e+00,  -1.20385626e+00,   3.10412761e-01,\n",
       "         2.80159099e-01,   3.25683716e-01,  -1.89156520e+00,\n",
       "        -9.05045757e-01,  -1.35814174e-01,  -4.66964029e-02,\n",
       "         3.28546348e-01,   6.58541228e-01,  -1.76489282e-01,\n",
       "        -1.60290723e+00,   5.61036625e-01,   1.19479434e-01,\n",
       "        -4.25548285e+00,   1.02518633e-01,  -4.63399912e-01,\n",
       "        -1.72606988e-01,   1.99930351e-01,  -1.19874118e-01,\n",
       "        -1.14956574e+00,   2.95333284e-01,  -2.80734773e-01,\n",
       "         8.52808890e-02,  -1.96751484e-03,   8.63332789e-02,\n",
       "        -2.71732088e+00,  -7.67756061e-01,  -6.21105587e-01,\n",
       "        -2.78487252e-01,   8.02032979e-01,   8.37016385e-01,\n",
       "         7.34348853e-01,   7.55036597e-01,   1.20311600e-01,\n",
       "         2.58275642e-01,  -9.77977013e-01,  -1.14187749e+00,\n",
       "        -1.29543896e+00,  -7.61583209e-01,  -2.08569272e-01,\n",
       "        -5.42139348e-01,   4.17713078e-01,  -9.57243427e-01,\n",
       "         7.63279264e-01,  -1.48285676e-01,  -2.08688163e-02,\n",
       "        -7.88985166e-01,  -6.09876295e-01,   2.23723770e-01,\n",
       "         6.95768186e-02,  -4.33156153e-01,  -7.76053923e-01,\n",
       "         3.03076050e-02,  -7.75302857e-01,   2.66250286e-01,\n",
       "        -7.23500040e-01,   1.07398057e-01,  -2.31166574e+00,\n",
       "         5.38837902e-01,  -1.23119678e+00,   1.50922338e-01,\n",
       "         2.77113892e-01,   6.90771470e-01,   2.54140541e-01,\n",
       "        -1.60571861e+00,  -8.84146014e-01,  -2.04375092e+00,\n",
       "         2.77169173e-01,   3.83493235e-01,  -5.24871571e-01,\n",
       "         1.18235934e-01,  -2.10784252e+00,   7.52075761e-01,\n",
       "        -2.03719356e-01,  -5.57123023e-01,  -5.51735271e-01,\n",
       "         4.15644542e-02,  -8.43479275e-01,  -9.80615201e-01,\n",
       "        -1.43761254e-02,  -6.53397030e-01,  -7.22452658e-02,\n",
       "        -8.14764188e-01,  -2.37824324e-01,  -6.16846500e-01,\n",
       "         7.33067256e-01,  -1.11398323e+00,  -1.06098138e+00,\n",
       "        -1.83656379e+00,   7.31795627e-01,  -3.78221088e-01,\n",
       "        -1.65111491e+00,  -1.29993656e+00,  -7.37306718e-01,\n",
       "        -8.91773684e-01,  -1.39816582e+00,   3.67701263e-01,\n",
       "        -1.34575753e+00,   4.21212180e-02,  -6.46719442e-01,\n",
       "        -8.55560731e-01,  -8.97295921e-01,  -7.87681554e-01,\n",
       "        -5.55916678e-01,   2.13253265e-01,  -3.71950875e-01,\n",
       "         5.23143889e-01,  -4.97287947e-02,  -2.49251905e-01,\n",
       "        -1.45253546e-01,  -2.29861993e+00,   2.06685429e-01,\n",
       "         2.56412113e-01,  -9.14864396e-01,  -1.23706850e-01,\n",
       "        -9.10978561e-01,  -1.26463102e+00,   8.09282282e-01,\n",
       "         6.52678815e-01,  -1.89625538e-01,   2.13057470e-01,\n",
       "        -6.66585391e-01,  -5.81966550e-01,   7.70027936e-01,\n",
       "        -1.51732986e+00,  -1.85458244e-01,  -1.71302189e+00,\n",
       "         7.49225915e-01,  -1.25679324e+00,  -7.15835098e-01,\n",
       "        -3.11126446e+00,  -3.38554234e-01,   6.59395865e-01,\n",
       "         3.43139868e-01,   1.54204871e-02,   3.42746536e-01,\n",
       "        -1.65953346e+00,  -1.45984505e+00,  -5.45773195e-02,\n",
       "        -7.96806028e-01,  -1.48248522e+00,  -1.21302855e+00,\n",
       "         5.71166489e-01,  -8.89353251e-02,  -8.25888996e-01,\n",
       "         7.64376775e-01,  -7.62261180e-02,   2.03680614e-01,\n",
       "         7.97155396e-01,  -6.58651569e-01,  -3.53242452e-02,\n",
       "        -5.23567025e+00,  -2.41268282e+00,   5.67042074e-01,\n",
       "         4.75516826e-03,  -1.63111125e+00,   1.93034630e-01,\n",
       "        -1.72082354e+00,   3.12174750e-01,  -1.47372235e+00,\n",
       "        -1.98247292e-01,  -4.10410490e-01,  -1.20597181e-01,\n",
       "        -3.84122364e-02,   4.02845930e-01,   2.17940680e-01,\n",
       "        -1.55143521e-02,  -1.42129610e+00,  -4.99542315e+00,\n",
       "         6.35469342e-01,   4.56453467e-01,  -1.59781773e-01,\n",
       "        -1.15401961e+00,  -7.01577968e-02,  -1.63911427e+00,\n",
       "         5.39054817e-01,   5.02524335e-01,   5.75405341e-01,\n",
       "         2.79492343e-02,  -2.34683612e+00,   2.13967429e-01,\n",
       "         2.01595349e-01,  -1.11813930e+00,  -7.59010174e-01,\n",
       "        -8.28745643e-01,   4.77171351e-01,  -1.33956996e-01,\n",
       "        -9.14252415e-01,  -5.00716106e-01,   2.14800446e-01,\n",
       "        -9.91812984e-01,  -7.08992126e-01,   5.78233161e-02,\n",
       "        -1.04221836e+00,  -9.98624580e-02,  -7.09157468e-01,\n",
       "        -3.44052527e+00,  -5.41830941e-01,  -1.95822569e+00,\n",
       "        -8.45887216e-02,  -4.22807710e-01,  -7.82826559e-01,\n",
       "         7.71469305e-01,  -5.92098071e-01,  -1.32445078e+00,\n",
       "         6.06237713e-01,  -1.22885115e-02,  -1.82368587e+00,\n",
       "         1.57168823e-01,   2.91585439e-01,  -6.58954856e-01,\n",
       "        -3.88797419e-01,   7.92545442e-01,  -2.72538204e-01,\n",
       "         5.60122762e-01,   4.36831810e-01,   1.56656286e-01,\n",
       "        -7.54100284e-01,   1.29619269e-01,  -1.54862565e+00,\n",
       "         6.92769335e-01,  -2.06104737e-01,   3.79908829e-01,\n",
       "        -1.60217056e+00,   1.67038700e-01,  -3.99862465e+00,\n",
       "         4.90500238e-02,   1.98572266e-01,  -5.18586429e-02,\n",
       "        -4.88475747e-02,  -2.37666035e+00,  -3.73887099e-02,\n",
       "        -1.19917595e-01,   3.15812050e-02,   8.34798730e-01,\n",
       "        -2.57228276e-02,  -3.21099198e-01,   5.79156490e-01,\n",
       "         3.63091661e-01,  -4.39352326e-02,  -2.78195156e-01,\n",
       "        -2.45186813e-01,  -1.90306328e+00,  -5.02494191e-01,\n",
       "        -8.27634895e-01,   7.33210986e-02,  -7.90836012e-01,\n",
       "         2.03200739e-01,  -7.07354782e-01,   1.76200547e-01,\n",
       "        -4.92773187e+00,  -3.30709327e-01,  -1.08810776e-01,\n",
       "         5.04726750e-01,  -1.04323769e+00,  -7.01940077e-01,\n",
       "        -2.14785669e+00,  -6.68521563e-01,  -1.55213958e-01,\n",
       "         2.19871292e-01,  -1.71356494e+00,  -6.30823330e-01,\n",
       "        -9.26279150e-01,  -1.18087308e-02,  -9.48083612e-02,\n",
       "         5.37596659e-02,   7.52636511e-01,  -6.27206858e-01,\n",
       "        -1.26879990e+00,   6.40125221e-01,  -1.67461228e-01,\n",
       "        -1.54023140e+00,  -1.70375965e-01,   2.28942688e-02,\n",
       "        -3.56755841e-01,   9.82177298e-03,   2.88522963e-02,\n",
       "        -2.61693204e-01,  -4.11102314e-02,   7.19715290e-01,\n",
       "         5.83326863e-01,  -1.21682875e-02,  -9.55491406e-01,\n",
       "        -6.64736287e-01,  -3.76092164e-02,  -1.66292751e+00,\n",
       "         6.00672385e-01,  -2.74477633e+00,  -3.16208185e-01,\n",
       "        -7.38734392e-01,  -4.67268061e-01,  -1.53347202e+00,\n",
       "         2.65565101e-01,   5.62900803e-01,  -4.64222163e-03,\n",
       "        -9.36693911e-01,   6.76364588e-01,  -1.19068831e-01,\n",
       "        -1.57929176e+00,  -2.52826795e+00,   7.17544674e-02,\n",
       "        -3.58834307e+00,  -1.85435267e-01,   4.05685308e-01,\n",
       "         5.10578725e-01,  -4.45188337e-01,  -1.48788630e+00,\n",
       "        -4.96458236e-01,  -1.09680987e-01,   7.95869076e-01,\n",
       "        -7.95004762e-02,  -5.46640115e-01,   3.42324781e-01,\n",
       "         3.98720043e-01,  -8.29298571e-01,  -3.07489518e-02,\n",
       "        -5.87795789e-01,  -7.57646428e-01,   5.51010283e-02,\n",
       "        -1.08713487e-01,  -3.89300752e-01,   3.56499084e-02,\n",
       "        -7.61906182e-02,   7.93397120e-01,  -1.78996366e-01,\n",
       "        -1.75646860e+00,  -6.82674367e-01,   7.29827039e-01,\n",
       "         6.70350407e-01,   3.72111025e-02,   2.56022976e-01,\n",
       "         8.33065650e-01,   8.17236194e-01,  -3.47802026e+00,\n",
       "         2.12820317e-01,   4.35192689e-01,   3.60235110e-01,\n",
       "         3.23420984e-01,  -1.13974670e+00,  -7.60599681e+00,\n",
       "        -5.04556087e-01,  -1.29609826e+00,   6.22957727e-01,\n",
       "        -1.55781585e-01,   1.52546920e-01,   1.57305118e-01,\n",
       "        -5.24253315e-01,  -3.27165160e-01,  -1.40231621e-01,\n",
       "        -6.44999925e-01,  -9.65397554e-01,   5.71738160e-02,\n",
       "        -9.70194736e-01,  -4.76692791e-01,  -2.42375838e+00,\n",
       "        -3.81605883e-01,   6.77023652e-01,  -1.09924091e+00,\n",
       "        -1.36585658e-01,  -8.38540152e-01,   5.13927594e-02,\n",
       "        -4.86568503e+00,  -1.51264939e+00,   2.37265519e-02,\n",
       "        -4.93720215e-01,   2.23932249e-01,  -6.38810908e-01,\n",
       "        -6.25167590e-01,  -7.05163804e-01,   6.69288641e-01,\n",
       "         5.63219024e-01,  -2.42049763e+00,   2.03718270e-01,\n",
       "         6.04325316e-01,  -1.20882902e+00,   5.07661409e-01,\n",
       "         2.89314790e-01,   4.29694636e-01,  -5.44381620e-01,\n",
       "        -5.21107734e-01,   1.33837530e-01,  -2.18388218e+00,\n",
       "        -1.70957181e+00,  -1.22186813e-01,  -6.83944526e-02,\n",
       "        -3.08525518e-01,  -4.88463902e-02,   5.56210777e-03,\n",
       "         8.10034013e-01,  -9.26430976e-01,   2.00022904e-01,\n",
       "         4.21753503e-02,   3.11764045e-02,  -1.19740173e+00,\n",
       "        -1.79538174e+00,   8.53926911e-01,  -5.56463978e-02,\n",
       "         2.80909141e-01,   1.19333008e-01,   2.00752254e-01,\n",
       "        -1.59854258e+00,  -1.55970788e+00,  -1.30236480e+00,\n",
       "         6.02798208e-01,   3.90476186e-01,  -3.70601773e-01,\n",
       "         6.97119049e-01,   7.65727987e-01,  -2.57695784e-01,\n",
       "        -2.92772778e-01,  -7.72057934e-01,  -1.90845950e-01,\n",
       "        -9.93505620e-01,  -4.35415464e-01,   8.15171114e-01,\n",
       "        -5.06359279e-01,  -1.22563109e-01,   7.74348374e-01,\n",
       "         1.18949918e-01,  -2.58032625e-01,  -8.45422466e-01,\n",
       "        -6.76171549e-01,  -8.65266863e-02,  -3.36563485e+00,\n",
       "         5.56160766e-02,  -1.09441706e+00,  -4.82564942e-01,\n",
       "        -2.34764531e+00,   7.33847726e-01,  -2.10105141e+00,\n",
       "        -1.63583739e+00,   4.50015644e-02,   1.46811591e-01,\n",
       "        -8.29576029e-01,  -9.71705187e-01,   6.89455499e-01,\n",
       "        -7.88022620e-02,  -4.81408478e-02,   2.35256939e-01,\n",
       "        -3.94104536e+00,   6.90237371e-03,  -4.74652373e-01,\n",
       "        -1.06952683e+00,   2.13276931e-01,  -2.06542292e+00,\n",
       "        -1.99072373e+00,  -7.37148448e-01,  -4.02876326e-01,\n",
       "         5.25249030e-02,  -3.62055257e+00,  -1.33422573e-01,\n",
       "         1.69058888e-01,  -2.66332500e-01,  -4.84472462e-01,\n",
       "        -1.14625689e-01,  -1.21172260e+00,   6.28111526e-02,\n",
       "        -7.40758272e-01,  -3.42885305e-01,   7.73635091e-01,\n",
       "        -2.75976683e-01,  -3.69379829e-01,  -7.66554589e-01,\n",
       "        -3.80903924e-01,   8.49517250e-01,  -1.19922449e-01,\n",
       "         2.30536006e-02,  -1.08427333e+00,  -1.72315438e-02,\n",
       "        -6.86468067e-01,  -4.29074990e-01,   6.29483805e-01,\n",
       "         3.99153272e-02,  -1.29011335e+00,   3.18931569e-02,\n",
       "        -4.46907139e+00,  -2.19886344e-02,   8.37132974e-01,\n",
       "         8.52385444e-01,   5.87781269e-01,   1.70138822e-01,\n",
       "         4.78642573e-01,   6.66027213e-01,  -5.45809844e-01,\n",
       "         2.12281978e-02,  -2.67434492e-02,  -1.83779042e+00,\n",
       "         2.21086627e-01,  -4.42783061e-01,   4.28993828e-01,\n",
       "        -6.49529187e-01,  -6.66082904e-01,  -6.80783513e-02,\n",
       "         7.57249839e-01,  -1.92959038e-01,  -6.11856465e-01,\n",
       "        -1.16811045e-01,   1.12211661e-02,   2.49379001e-01,\n",
       "        -6.45637772e-02,   3.79574642e-01,   7.09244602e-01,\n",
       "        -1.17672382e+00,   3.82860483e-01,  -2.19031642e+00,\n",
       "        -1.06540267e+00,  -9.01909952e-01,  -2.74672911e+00,\n",
       "         5.93471128e-01,  -1.02259181e+00,  -7.09656816e-01,\n",
       "        -6.84111536e-01,  -7.14035024e-01,  -2.57231683e-01,\n",
       "        -2.82280342e-01,  -2.82610996e+00,  -5.20162670e-01,\n",
       "         2.43667768e-01,  -9.54214545e-01,  -2.79447528e-01,\n",
       "        -1.55539946e-01,  -7.43805060e-02,  -2.69319192e-01,\n",
       "         1.32655010e-01,   6.70665050e-02,  -1.19503073e+00,\n",
       "        -1.68670057e-01,  -2.60421990e+00,  -1.12853094e+00,\n",
       "         8.68393020e-02,   1.25912086e-01,   7.81313584e-01,\n",
       "         2.32110836e-01,  -1.08826979e-02,  -8.87101500e-01,\n",
       "         7.49058252e-01,   5.28740732e-01,  -1.20189679e+00,\n",
       "        -9.45986399e-01,   3.23488974e-02,  -6.94232422e-01,\n",
       "        -1.42757478e+00,  -8.56782160e-01,   7.50675662e-01,\n",
       "        -2.15363675e-01,  -1.04751931e+00,  -1.34100814e+00,\n",
       "         2.27522880e-01,   1.64866343e-01,  -2.97609299e+00,\n",
       "         8.20544067e-01,  -1.14658173e-02,  -4.01279162e-01,\n",
       "        -2.11932822e+00,   1.15047185e-02,  -5.44221983e-01,\n",
       "        -1.69464365e-01,   8.11721771e-01,   6.17091911e-01,\n",
       "        -7.16142686e-01,   6.53298108e-01,  -1.20360858e-01,\n",
       "        -9.38704468e-01,  -1.35364151e+00,  -5.61234801e-01,\n",
       "        -1.23892187e+00,   6.50679755e-01,  -4.01206392e+00,\n",
       "        -2.45265784e-01,  -1.49081256e+00,   3.13433260e-01,\n",
       "        -3.10516025e-01,  -1.25950546e+00,  -8.01120642e-01,\n",
       "         1.65771424e-01,   1.45651192e-01,   3.66315057e-01,\n",
       "         2.06716170e-01,  -5.29331064e-01,  -3.11628281e+00,\n",
       "        -8.36619103e-01,  -2.75739347e-01,  -7.43071401e-02,\n",
       "         7.99083229e-01,  -6.72666708e-01,  -1.33540997e+00,\n",
       "        -2.15544072e+00,  -1.08512409e+00,  -1.08434460e-01,\n",
       "         2.79738827e-01,  -2.83536590e+00,  -3.09530661e-01,\n",
       "         7.20945966e-01,  -2.16954726e-01,  -1.45673917e+00,\n",
       "         6.88322610e-01,  -4.90082185e+00,  -3.67873748e+00,\n",
       "        -1.40252260e-01,   7.76199493e-01,  -8.53153519e-01,\n",
       "        -8.52514115e-01,   6.43930889e-01,  -3.84557796e-01,\n",
       "        -1.61174223e+00,   2.55655456e-01,  -2.64762428e-01,\n",
       "         1.22090250e-01,  -9.81069723e-01,  -2.77364902e-01,\n",
       "         2.49109058e-01,  -1.16766067e-01,   4.89589686e-01,\n",
       "        -5.35235407e-01,  -1.21715104e+00,   2.52142272e-02,\n",
       "        -1.37048226e+00,  -3.04026893e+00,  -2.40957839e-01,\n",
       "        -1.45136573e+00,  -9.02215993e-01,   5.85587477e-01,\n",
       "        -8.38121885e-01,   6.10965126e-02,  -7.13081461e-01,\n",
       "        -1.58880353e-01,  -1.17626289e+00,  -9.11667783e-01,\n",
       "         2.77485648e-01,  -3.81579455e-01,  -1.14869944e+00,\n",
       "        -1.09379854e+00,  -8.90928868e-01,  -2.06681561e-02,\n",
       "        -5.62576784e-02,  -3.04190689e+00,  -8.32943974e-01,\n",
       "         8.33673214e-01,  -3.19820551e-01,  -5.53257958e-01,\n",
       "         2.87156620e-02,  -1.37638028e+00,  -1.02934024e+00,\n",
       "         6.49450203e-02,   8.71147882e-02,  -7.52441321e-01,\n",
       "        -9.75179590e-01,  -6.59363996e-01,   1.73147771e-01,\n",
       "        -1.27199651e+00,   5.24149416e-02,   6.33792494e-02,\n",
       "        -8.87200971e-01,   1.42393134e-02,  -7.87059105e-01,\n",
       "         6.10710508e-01,   6.93357564e-01,   8.94340335e-03,\n",
       "        -2.87207457e-01,  -3.16904856e-01,   4.03163588e-01,\n",
       "        -2.64210063e-01,   6.00977452e-01,  -9.86967286e-01,\n",
       "         4.65162563e-01,   8.41310220e-01,   4.01429141e-01,\n",
       "        -3.04590206e+00,  -9.28952639e-02,   3.91892931e-01,\n",
       "        -1.00609909e-01,   8.60192186e-02,   8.05755801e-01,\n",
       "        -1.11387524e+00,  -1.14910757e+00,   5.76863699e-01,\n",
       "         2.76918577e-01,  -2.24662579e-01,  -2.83681472e+00,\n",
       "         1.51229420e-01,   6.11074530e-01,   2.18382516e-01,\n",
       "         4.15357664e-01,  -2.07291883e+00,   2.40782517e-01,\n",
       "         5.70322825e-01,  -2.03881533e+00,   9.45688932e-02,\n",
       "        -1.24458260e+00,  -1.79620974e+00,  -2.39399029e-01,\n",
       "        -1.37038866e+00,  -5.58807212e-02,  -5.37081171e-01,\n",
       "         1.72956148e-01,  -4.70647947e-01,  -7.72411210e-01,\n",
       "         2.66107395e-02,   3.55279234e-01,  -1.59055874e-01,\n",
       "         1.27717154e-01,  -7.59345266e-01,   8.41987729e-01,\n",
       "         7.04511400e-01,  -1.83303210e+00,   8.43069671e-01,\n",
       "        -1.61517210e-01,   3.87214585e-01,   3.35460271e-01,\n",
       "        -9.93392121e-01,  -1.56171792e-01,  -9.50896788e-01,\n",
       "        -2.11656789e+00,   7.49700468e-01,  -6.78593558e-01,\n",
       "        -7.51726751e-01,  -9.12517240e-01,   6.56126059e-01,\n",
       "         2.15037087e-01,  -6.08037554e-01,   5.45834794e-01,\n",
       "        -6.52026289e-01,  -2.42372661e-01,  -3.89371961e-01,\n",
       "        -1.38907465e+00,  -2.17154361e+00,  -1.29184176e+00,\n",
       "        -1.60183363e+00,  -6.73071371e-01,  -3.86462104e-01,\n",
       "         8.91866388e-02,  -1.73865410e+00,  -9.77459285e-01,\n",
       "         2.84549912e-01,   2.78851944e-01,   8.16818918e-01,\n",
       "         6.92840735e-02,   4.35988987e-01,  -2.29561048e+00,\n",
       "        -8.47901206e-01,  -3.63503879e-01,   7.99023386e-04,\n",
       "         6.39303146e-01,  -2.43631047e-01,   1.22454367e-02,\n",
       "         2.81294427e-01,  -8.03098888e-01,  -4.55057817e-01,\n",
       "        -3.55117072e+00,  -6.36752301e-01,  -2.84197946e-01,\n",
       "        -9.71651826e-01,  -1.19822589e-01,  -1.19877332e+00,\n",
       "         5.37070781e-01,   7.89652810e-01,   6.09417356e-01,\n",
       "         7.58907000e-01,   6.97103193e-01,  -1.78540502e-01,\n",
       "        -5.54270114e-02,  -1.71658157e+00,  -1.79313986e+00,\n",
       "        -7.16802934e-01,  -1.15047573e-01,  -1.53195714e+00,\n",
       "         8.26509874e-02,  -1.63118965e+00,   3.57059833e-01,\n",
       "        -3.83538574e-01,   2.52208124e-01,  -9.83885900e-01,\n",
       "        -2.90818623e-01,   2.80650515e-01,  -1.76676712e+00,\n",
       "         4.50991481e-02,   7.28419782e-01,   6.08667419e-01,\n",
       "         3.59421256e-01,  -3.15945508e+00,   3.34090280e-01,\n",
       "        -1.04590688e+00,  -3.90262672e-01,   1.58437684e-01,\n",
       "        -1.07086125e+00,  -1.27944087e-01,  -8.62843680e-01,\n",
       "        -1.13796235e+00,   1.76501915e-01,   6.22413300e-01,\n",
       "        -2.00261260e-02,  -8.68154722e-01,  -1.27981708e+00,\n",
       "        -2.24829536e+00,  -7.80896053e-01,  -9.45643767e-01,\n",
       "         1.73433236e-01,   6.38376989e-01,   5.99733427e-01,\n",
       "        -5.80617438e-01,  -1.93199725e+00,   6.89135525e-01,\n",
       "         3.95079924e-01,   8.18256756e-01,  -1.26281356e+00,\n",
       "        -1.26335008e+00])"
      ]
     },
     "execution_count": 67,
     "metadata": {},
     "output_type": "execute_result"
    }
   ],
   "source": [
    "%time new_color_dist.score_samples(new_samples)"
   ]
  },
  {
   "cell_type": "code",
   "execution_count": 3,
   "metadata": {
    "collapsed": false
   },
   "outputs": [],
   "source": [
    "cat = seWrapper.seCatalog()\n",
    "cat.createNewCatalog('g_crop.cat','g')\n",
    "\n",
    "new_cat = seWrapper.seCatalog()\n",
    "new_cat.createNewCatalog('r_crop.cat','r')\n",
    "\n",
    "cat.mergeCatalog(new_cat,match_rad=0.5*u.arcsec)\n",
    "\n",
    "new_cat = seWrapper.seCatalog()\n",
    "new_cat.createNewCatalog('i_crop.cat','i')\n",
    "\n",
    "cat.mergeCatalog(new_cat,match_rad=0.5*u.arcsec)"
   ]
  },
  {
   "cell_type": "code",
   "execution_count": 4,
   "metadata": {
    "collapsed": false
   },
   "outputs": [
    {
     "data": {
      "text/plain": [
       "<matplotlib.collections.PathCollection at 0x10b895990>"
      ]
     },
     "execution_count": 4,
     "metadata": {},
     "output_type": "execute_result"
    },
    {
     "data": {
      "image/png": "[encoded data removed]",
      "text/plain": [
       "<matplotlib.figure.Figure at 0x10af71990>"
      ]
     },
     "metadata": {},
     "output_type": "display_data"
    }
   ],
   "source": [
    "m = cat.all_detected\n",
    "plt.scatter(cat.mags['g'][m]-cat.mags['r'][m],cat.mags['r'][m])"
   ]
  },
  {
   "cell_type": "code",
   "execution_count": 5,
   "metadata": {
    "collapsed": false
   },
   "outputs": [
    {
     "data": {
      "text/plain": [
       "(-0.5, 2.5)"
      ]
     },
     "execution_count": 5,
     "metadata": {},
     "output_type": "execute_result"
    },
    {
     "data": {
      "image/png": "[encoded data removed]",
      "text/plain": [
       "<matplotlib.figure.Figure at 0x10b8be410>"
      ]
     },
     "metadata": {},
     "output_type": "display_data"
    }
   ],
   "source": [
    "m = cat.all_detected\n",
    "plt.scatter(cat.mags['g'][m]-cat.mags['i'][m],cat.mags['r'][m]-cat.mags['i'][m],s=0.5)\n",
    "plt.xlim(-0.5,4.0)\n",
    "plt.ylim(-0.5,2.5)"
   ]
  },
  {
   "cell_type": "code",
   "execution_count": 6,
   "metadata": {
    "collapsed": false
   },
   "outputs": [
    {
     "data": {
      "text/plain": [
       "(array([  13.,    4.,    3.,    1.,    2.,    2.,    1.,    1.,    1.,\n",
       "           3.,    2.,    0.,    2.,    4.,    0.,    3.,    2.,    6.,\n",
       "           7.,    2.,    5.,    4.,    4.,    6.,    4.,    5.,    7.,\n",
       "          10.,   13.,   15.,   12.,   14.,   17.,   25.,   18.,   28.,\n",
       "          35.,   35.,   53.,   67.,   83.,   86.,  105.,  114.,  109.,\n",
       "         103.,   84.,   58.,   29.,    9.]),\n",
       " array([ 17.4411 ,  17.59977,  17.75844,  17.91711,  18.07578,  18.23445,\n",
       "         18.39312,  18.55179,  18.71046,  18.86913,  19.0278 ,  19.18647,\n",
       "         19.34514,  19.50381,  19.66248,  19.82115,  19.97982,  20.13849,\n",
       "         20.29716,  20.45583,  20.6145 ,  20.77317,  20.93184,  21.09051,\n",
       "         21.24918,  21.40785,  21.56652,  21.72519,  21.88386,  22.04253,\n",
       "         22.2012 ,  22.35987,  22.51854,  22.67721,  22.83588,  22.99455,\n",
       "         23.15322,  23.31189,  23.47056,  23.62923,  23.7879 ,  23.94657,\n",
       "         24.10524,  24.26391,  24.42258,  24.58125,  24.73992,  24.89859,\n",
       "         25.05726,  25.21593,  25.3746 ]),\n",
       " <a list of 50 Patch objects>)"
      ]
     },
     "execution_count": 6,
     "metadata": {},
     "output_type": "execute_result"
    },
    {
     "data": {
      "image/png": "[encoded data removed]",
      "text/plain": [
       "<matplotlib.figure.Figure at 0x10af71350>"
      ]
     },
     "metadata": {},
     "output_type": "display_data"
    }
   ],
   "source": [
    "plt.hist(cat.mags['g'][m],bins=50)"
   ]
  },
  {
   "cell_type": "code",
   "execution_count": 7,
   "metadata": {
    "collapsed": false
   },
   "outputs": [],
   "source": [
    "def kde_sklearn(x, x_grid, bandwidth=0.2, **kwargs):\n",
    "    \"\"\"Kernel Density Estimation with Scikit-learn\"\"\"\n",
    "    kde_skl = skl.neighbors.KernelDensity(bandwidth=bandwidth, **kwargs)\n",
    "    kde_skl.fit(x[:, np.newaxis])\n",
    "\n"
   ]
  },
  {
   "cell_type": "code",
   "execution_count": 76,
   "metadata": {
    "collapsed": false
   },
   "outputs": [],
   "source": [
    "data = np.array([cat.mags['g'][m]-cat.mags['i'][m],cat.mags['r']-cat.mags['i']]).T\n",
    "kde_skl = KernelDensity(bandwidth=[0.5,0.001])\n",
    "kde_skl.fit(data)\n",
    "samples = kde_skl.sample(n_samples=1216)"
   ]
  },
  {
   "cell_type": "code",
   "execution_count": 9,
   "metadata": {
    "collapsed": false
   },
   "outputs": [
    {
     "ename": "ValueError",
     "evalue": "Parameter array should be one-dimensional.",
     "output_type": "error",
     "traceback": [
      "\u001b[0;31m---------------------------------------------------------------------------\u001b[0m",
      "\u001b[0;31mValueError\u001b[0m                                Traceback (most recent call last)",
      "\u001b[0;32m<ipython-input-9-7fcc30df3961>\u001b[0m in \u001b[0;36m<module>\u001b[0;34m()\u001b[0m\n\u001b[1;32m      1\u001b[0m \u001b[0;31m#cross validation:\u001b[0m\u001b[0;34m\u001b[0m\u001b[0;34m\u001b[0m\u001b[0m\n\u001b[0;32m----> 2\u001b[0;31m \u001b[0mgrid\u001b[0m \u001b[0;34m=\u001b[0m \u001b[0mGridSearchCV\u001b[0m\u001b[0;34m(\u001b[0m\u001b[0mKernelDensity\u001b[0m\u001b[0;34m(\u001b[0m\u001b[0;34m)\u001b[0m\u001b[0;34m,\u001b[0m\u001b[0;34m{\u001b[0m\u001b[0;34m'bandwidth'\u001b[0m\u001b[0;34m:\u001b[0m\u001b[0mnp\u001b[0m\u001b[0;34m.\u001b[0m\u001b[0marray\u001b[0m\u001b[0;34m(\u001b[0m\u001b[0;34m[\u001b[0m\u001b[0mnp\u001b[0m\u001b[0;34m.\u001b[0m\u001b[0mlinspace\u001b[0m\u001b[0;34m(\u001b[0m\u001b[0;36m0.001\u001b[0m\u001b[0;34m,\u001b[0m\u001b[0;36m0.5\u001b[0m\u001b[0;34m,\u001b[0m\u001b[0;36m100\u001b[0m\u001b[0;34m)\u001b[0m\u001b[0;34m,\u001b[0m\u001b[0mnp\u001b[0m\u001b[0;34m.\u001b[0m\u001b[0mlinspace\u001b[0m\u001b[0;34m(\u001b[0m\u001b[0;36m0.001\u001b[0m\u001b[0;34m,\u001b[0m\u001b[0;36m0.5\u001b[0m\u001b[0;34m,\u001b[0m\u001b[0;36m100\u001b[0m\u001b[0;34m)\u001b[0m\u001b[0;34m]\u001b[0m\u001b[0;34m)\u001b[0m\u001b[0;34m}\u001b[0m\u001b[0;34m)\u001b[0m\u001b[0;34m\u001b[0m\u001b[0m\n\u001b[0m\u001b[1;32m      3\u001b[0m \u001b[0mgrid\u001b[0m\u001b[0;34m.\u001b[0m\u001b[0mfit\u001b[0m\u001b[0;34m(\u001b[0m\u001b[0mdata\u001b[0m\u001b[0;34m)\u001b[0m\u001b[0;34m\u001b[0m\u001b[0m\n\u001b[1;32m      4\u001b[0m \u001b[0;32mprint\u001b[0m \u001b[0mgrid\u001b[0m\u001b[0;34m.\u001b[0m\u001b[0mbest_params_\u001b[0m\u001b[0;34m[\u001b[0m\u001b[0;34m'bandwidth'\u001b[0m\u001b[0;34m]\u001b[0m\u001b[0;34m\u001b[0m\u001b[0m\n",
      "\u001b[0;32m/Library/Frameworks/Python.framework/Versions/2.7/lib/python2.7/site-packages/sklearn/grid_search.pyc\u001b[0m in \u001b[0;36m__init__\u001b[0;34m(self, estimator, param_grid, scoring, loss_func, score_func, fit_params, n_jobs, iid, refit, cv, verbose, pre_dispatch, error_score)\u001b[0m\n\u001b[1;32m    713\u001b[0m             refit, cv, verbose, pre_dispatch, error_score)\n\u001b[1;32m    714\u001b[0m         \u001b[0mself\u001b[0m\u001b[0;34m.\u001b[0m\u001b[0mparam_grid\u001b[0m \u001b[0;34m=\u001b[0m \u001b[0mparam_grid\u001b[0m\u001b[0;34m\u001b[0m\u001b[0m\n\u001b[0;32m--> 715\u001b[0;31m         \u001b[0m_check_param_grid\u001b[0m\u001b[0;34m(\u001b[0m\u001b[0mparam_grid\u001b[0m\u001b[0;34m)\u001b[0m\u001b[0;34m\u001b[0m\u001b[0m\n\u001b[0m\u001b[1;32m    716\u001b[0m \u001b[0;34m\u001b[0m\u001b[0m\n\u001b[1;32m    717\u001b[0m     \u001b[0;32mdef\u001b[0m \u001b[0mfit\u001b[0m\u001b[0;34m(\u001b[0m\u001b[0mself\u001b[0m\u001b[0;34m,\u001b[0m \u001b[0mX\u001b[0m\u001b[0;34m,\u001b[0m \u001b[0my\u001b[0m\u001b[0;34m=\u001b[0m\u001b[0mNone\u001b[0m\u001b[0;34m)\u001b[0m\u001b[0;34m:\u001b[0m\u001b[0;34m\u001b[0m\u001b[0m\n",
      "\u001b[0;32m/Library/Frameworks/Python.framework/Versions/2.7/lib/python2.7/site-packages/sklearn/grid_search.pyc\u001b[0m in \u001b[0;36m_check_param_grid\u001b[0;34m(param_grid)\u001b[0m\n\u001b[1;32m    274\u001b[0m         \u001b[0;32mfor\u001b[0m \u001b[0mv\u001b[0m \u001b[0;32min\u001b[0m \u001b[0mp\u001b[0m\u001b[0;34m.\u001b[0m\u001b[0mvalues\u001b[0m\u001b[0;34m(\u001b[0m\u001b[0;34m)\u001b[0m\u001b[0;34m:\u001b[0m\u001b[0;34m\u001b[0m\u001b[0m\n\u001b[1;32m    275\u001b[0m             \u001b[0;32mif\u001b[0m \u001b[0misinstance\u001b[0m\u001b[0;34m(\u001b[0m\u001b[0mv\u001b[0m\u001b[0;34m,\u001b[0m \u001b[0mnp\u001b[0m\u001b[0;34m.\u001b[0m\u001b[0mndarray\u001b[0m\u001b[0;34m)\u001b[0m \u001b[0;32mand\u001b[0m \u001b[0mv\u001b[0m\u001b[0;34m.\u001b[0m\u001b[0mndim\u001b[0m \u001b[0;34m>\u001b[0m \u001b[0;36m1\u001b[0m\u001b[0;34m:\u001b[0m\u001b[0;34m\u001b[0m\u001b[0m\n\u001b[0;32m--> 276\u001b[0;31m                 \u001b[0;32mraise\u001b[0m \u001b[0mValueError\u001b[0m\u001b[0;34m(\u001b[0m\u001b[0;34m\"Parameter array should be one-dimensional.\"\u001b[0m\u001b[0;34m)\u001b[0m\u001b[0;34m\u001b[0m\u001b[0m\n\u001b[0m\u001b[1;32m    277\u001b[0m \u001b[0;34m\u001b[0m\u001b[0m\n\u001b[1;32m    278\u001b[0m             \u001b[0mcheck\u001b[0m \u001b[0;34m=\u001b[0m \u001b[0;34m[\u001b[0m\u001b[0misinstance\u001b[0m\u001b[0;34m(\u001b[0m\u001b[0mv\u001b[0m\u001b[0;34m,\u001b[0m \u001b[0mk\u001b[0m\u001b[0;34m)\u001b[0m \u001b[0;32mfor\u001b[0m \u001b[0mk\u001b[0m \u001b[0;32min\u001b[0m \u001b[0;34m(\u001b[0m\u001b[0mlist\u001b[0m\u001b[0;34m,\u001b[0m \u001b[0mtuple\u001b[0m\u001b[0;34m,\u001b[0m \u001b[0mnp\u001b[0m\u001b[0;34m.\u001b[0m\u001b[0mndarray\u001b[0m\u001b[0;34m)\u001b[0m\u001b[0;34m]\u001b[0m\u001b[0;34m\u001b[0m\u001b[0m\n",
      "\u001b[0;31mValueError\u001b[0m: Parameter array should be one-dimensional."
     ]
    }
   ],
   "source": [
    "#cross validation:\n",
    "grid = GridSearchCV(KernelDensity(),{'bandwidth':np.array([np.linspace(0.001,0.5,100),np.linspace(0.001,0.5,100)])})\n",
    "grid.fit(data)\n",
    "print grid.best_params_['bandwidth']"
   ]
  },
  {
   "cell_type": "code",
   "execution_count": 177,
   "metadata": {
    "collapsed": false
   },
   "outputs": [
    {
     "data": {
      "text/plain": [
       "(-0.5, 2.5)"
      ]
     },
     "execution_count": 177,
     "metadata": {},
     "output_type": "execute_result"
    },
    {
     "data": {
      "image/png": "[encoded data removed]",
      "text/plain": [
       "<matplotlib.figure.Figure at 0x112cd0350>"
      ]
     },
     "metadata": {},
     "output_type": "display_data"
    }
   ],
   "source": [
    "plt.scatter(samples[:,0],samples[:,1],s=0.5)\n",
    "plt.xlim(-0.5,4.0)\n",
    "plt.ylim(-0.5,2.5)"
   ]
  },
  {
   "cell_type": "code",
   "execution_count": 125,
   "metadata": {
    "collapsed": false
   },
   "outputs": [
    {
     "data": {
      "text/plain": [
       "(array([   1.,    1.,    7.,   17.,   49.,   89.,   76.,  134.,  154.,\n",
       "         133.,  109.,   91.,   56.,   46.,   55.,   48.,   38.,   43.,\n",
       "          34.,   22.,    8.,    2.,    1.,    0.,    0.,    0.,    0.,\n",
       "           0.,    1.,    1.]),\n",
       " array([-0.12654685,  0.02912678,  0.18480042,  0.34047405,  0.49614769,\n",
       "         0.65182132,  0.80749496,  0.96316859,  1.11884223,  1.27451586,\n",
       "         1.4301895 ,  1.58586313,  1.74153677,  1.8972104 ,  2.05288403,\n",
       "         2.20855767,  2.3642313 ,  2.51990494,  2.67557857,  2.83125221,\n",
       "         2.98692584,  3.14259948,  3.29827311,  3.45394675,  3.60962038,\n",
       "         3.76529402,  3.92096765,  4.07664128,  4.23231492,  4.38798855,\n",
       "         4.54366219]),\n",
       " <a list of 30 Patch objects>)"
      ]
     },
     "execution_count": 125,
     "metadata": {},
     "output_type": "execute_result"
    },
    {
     "data": {
      "image/png": "[encoded data removed]",
      "text/plain": [
       "<matplotlib.figure.Figure at 0x10cb65310>"
      ]
     },
     "metadata": {},
     "output_type": "display_data"
    }
   ],
   "source": [
    "plt.hist(samples,bins=30)"
   ]
  },
  {
   "cell_type": "code",
   "execution_count": 1,
   "metadata": {
    "collapsed": false
   },
   "outputs": [
    {
     "ename": "NameError",
     "evalue": "name 'plt' is not defined",
     "output_type": "error",
     "traceback": [
      "\u001b[0;31m---------------------------------------------------------------------------\u001b[0m",
      "\u001b[0;31mNameError\u001b[0m                                 Traceback (most recent call last)",
      "\u001b[0;32m<ipython-input-1-8546b8ef585d>\u001b[0m in \u001b[0;36m<module>\u001b[0;34m()\u001b[0m\n\u001b[0;32m----> 1\u001b[0;31m \u001b[0mfig\u001b[0m\u001b[0;34m,\u001b[0m\u001b[0maxis\u001b[0m \u001b[0;34m=\u001b[0m \u001b[0mplt\u001b[0m\u001b[0;34m.\u001b[0m\u001b[0msubplots\u001b[0m\u001b[0;34m(\u001b[0m\u001b[0mncols\u001b[0m\u001b[0;34m=\u001b[0m\u001b[0;36m2\u001b[0m\u001b[0;34m,\u001b[0m\u001b[0mfigsize\u001b[0m\u001b[0;34m=\u001b[0m\u001b[0;34m(\u001b[0m\u001b[0;36m10\u001b[0m\u001b[0;34m,\u001b[0m\u001b[0;36m5\u001b[0m\u001b[0;34m)\u001b[0m\u001b[0;34m)\u001b[0m\u001b[0;34m\u001b[0m\u001b[0m\n\u001b[0m\u001b[1;32m      2\u001b[0m \u001b[0;34m\u001b[0m\u001b[0m\n\u001b[1;32m      3\u001b[0m \u001b[0;31m#axis[0].scatter(samples[:,0],samples[:,1],s=0.5)\u001b[0m\u001b[0;34m\u001b[0m\u001b[0;34m\u001b[0m\u001b[0m\n\u001b[1;32m      4\u001b[0m \u001b[0;31m#axis[0].set_xlim([-0.5,4.0])\u001b[0m\u001b[0;34m\u001b[0m\u001b[0;34m\u001b[0m\u001b[0m\n\u001b[1;32m      5\u001b[0m \u001b[0;31m#axis[0].set_ylim([-0.5,2.5])\u001b[0m\u001b[0;34m\u001b[0m\u001b[0;34m\u001b[0m\u001b[0m\n",
      "\u001b[0;31mNameError\u001b[0m: name 'plt' is not defined"
     ]
    }
   ],
   "source": [
    "fig,axis = plt.subplots(ncols=2,figsize=(10,5))\n",
    "\n",
    "#axis[0].scatter(samples[:,0],samples[:,1],s=0.5)\n",
    "#axis[0].set_xlim([-0.5,4.0])\n",
    "#axis[0].set_ylim([-0.5,2.5])\n",
    "\n",
    "axis[0].scatter(cat.mags['g'][m]-cat.mags['i'][m],cat.mags['r'][m]-cat.mags['i'][m],s=0.5)\n",
    "axis[0].set_xlim(-0.5,4.0)\n",
    "axis[0].set_ylim(-0.5,2.5)\n",
    "axis[0].set(xlabel='(g-i)',ylabel='(r-i)')\n",
    "\n",
    "x = np.linspace(-0.5,4.0,500)\n",
    "y = np.linspace(-0.5,2.5,500)\n",
    "X,Y = np.meshgrid(x,y)\n",
    "xy = np.vstack([X.ravel(),Y.ravel()]).T\n",
    "Z = new_color_dist.score_samples(xy)\n",
    "Z = Z.reshape(X.shape)\n",
    "\n",
    "axis[1].contour(X,Y,Z,levels=np.linspace(-5,1.0,50))\n",
    "axis[1].set_xlim([-0.5,4.0])\n",
    "axis[1].set_ylim([-0.5,2.5])\n",
    "axis[1].set(xlabel='(g-i)',ylabel='(r-i)')"
   ]
  },
  {
   "cell_type": "code",
   "execution_count": 75,
   "metadata": {
    "collapsed": false
   },
   "outputs": [
    {
     "data": {
      "text/plain": [
       "(250000, 2)"
      ]
     },
     "execution_count": 75,
     "metadata": {},
     "output_type": "execute_result"
    }
   ],
   "source": [
    "xy.shape"
   ]
  },
  {
   "cell_type": "code",
   "execution_count": null,
   "metadata": {
    "collapsed": true
   },
   "outputs": [],
   "source": []
  }
 ],
 "metadata": {
  "kernelspec": {
   "display_name": "Python 2",
   "language": "python",
   "name": "python2"
  },
  "language_info": {
   "codemirror_mode": {
    "name": "ipython",
    "version": 2
   },
   "file_extension": ".py",
   "mimetype": "text/x-python",
   "name": "python",
   "nbconvert_exporter": "python",
   "pygments_lexer": "ipython2",
   "version": "2.7.9"
  }
 },
 "nbformat": 4,
 "nbformat_minor": 0
}
